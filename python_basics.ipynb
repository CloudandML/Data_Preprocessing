{
 "cells": [
  {
   "cell_type": "markdown",
   "metadata": {},
   "source": [
    "## data structures"
   ]
  },
  {
   "cell_type": "code",
   "execution_count": null,
   "metadata": {},
   "outputs": [],
   "source": [
    "#帮助\n",
    "?map"
   ]
  },
  {
   "cell_type": "markdown",
   "metadata": {},
   "source": [
    "#### List"
   ]
  },
  {
   "cell_type": "markdown",
   "metadata": {},
   "source": [
    "list元素可以随意增删改查，插入可以是单个元素，也可以是list"
   ]
  },
  {
   "cell_type": "code",
   "execution_count": 81,
   "metadata": {},
   "outputs": [
    {
     "name": "stdout",
     "output_type": "stream",
     "text": [
      "fruits: ['orange', 'apple', 'pear', 'banana', 'kiwi', 'apple', 'banana']\n",
      "fruits.count(apple) : 2\n",
      "fruits.count(tangerine) : 0\n",
      "fruits.index(banana) : 3\n",
      "fruits.index(banana, 4) :  6\n",
      "fruits.reverse() : ['banana', 'apple', 'kiwi', 'banana', 'pear', 'apple', 'orange']\n",
      "fruits.append : ['banana', 'apple', 'kiwi', 'banana', 'pear', 'apple', 'orange', 'grape']\n",
      "fruits.sort() : ['apple', 'apple', 'banana', 'banana', 'grape', 'kiwi', 'orange', 'pear']\n",
      "fruits.pop() : pear\n"
     ]
    },
    {
     "data": {
      "text/plain": [
       "['apple', 'apple', 'banana', 'banana', 'grape', 'kiwi', 'orange']"
      ]
     },
     "execution_count": 81,
     "metadata": {},
     "output_type": "execute_result"
    }
   ],
   "source": [
    "#list()\n",
    "fruits = ['orange', 'apple', 'pear', 'banana', 'kiwi', 'apple', 'banana']\n",
    "print('fruits:',fruits)\n",
    "#count()从1开始数\n",
    "print('fruits.count(''apple'') :',fruits.count('apple')) \n",
    "\n",
    "print('fruits.count(''tangerine'') :',fruits.count('tangerine'))\n",
    "#index 从0开始数\n",
    "print('fruits.index(''banana'') :',fruits.index('banana'))\n",
    "\n",
    "print('fruits.index(''banana'', 4) : ',fruits.index('banana', 4)) # Find next banana starting a position 4\n",
    "#倒序\n",
    "fruits.reverse()\n",
    "print('fruits.reverse() :',fruits)\n",
    "#添加元素，插入还可以用extend(iterable) ， insert(i, x)\n",
    "fruits.append('grape')\n",
    "print('fruits.append :',fruits)\n",
    "#按字母排序\n",
    "fruits.sort()\n",
    "print('fruits.sort() :',fruits)\n",
    "#pop删除最后一个\n",
    "print('fruits.pop() :',fruits.pop())\n",
    "fruits"
   ]
  },
  {
   "cell_type": "code",
   "execution_count": 14,
   "metadata": {},
   "outputs": [
    {
     "data": {
      "text/plain": [
       "([2, 3, 4, 5, 6, 7, 8, 9, 10, 11],\n",
       " [0, 1, 4, 9, 16, 25, 36, 49, 64, 81],\n",
       " [(1, 3), (1, 4), (2, 3), (2, 1), (2, 4), (3, 1), (3, 4)],\n",
       " [(1, 3), (1, 4), (3, 1), (3, 4)])"
      ]
     },
     "execution_count": 14,
     "metadata": {},
     "output_type": "execute_result"
    }
   ],
   "source": [
    "#使用临时变量x执行\n",
    "#map(func, *iterables) --> map object\n",
    "l1 = list(map(lambda x: x+2,range(10))) \n",
    "l2 = [x**2 for x in range(10)] #使用for循环生成\n",
    "l3 = [(x,y) for x in [1,2,3] for y in [3,1,4] if x != y] #list生成数据时可以直接写循环和判断\n",
    "l4 = [(x,y) for x,y in l3 if x!=2]\n",
    "l1,l2,l3,l4"
   ]
  },
  {
   "cell_type": "code",
   "execution_count": 17,
   "metadata": {},
   "outputs": [
    {
     "data": {
      "text/plain": [
       "['3.14', '3.1416', '3.141593']"
      ]
     },
     "execution_count": 17,
     "metadata": {},
     "output_type": "execute_result"
    }
   ],
   "source": [
    "from math import pi\n",
    "[str(round(pi,i)) for i in range(2,8,2)] #range(start, stop[, step])"
   ]
  },
  {
   "cell_type": "code",
   "execution_count": 76,
   "metadata": {},
   "outputs": [
    {
     "data": {
      "text/plain": [
       "[[1, 2, 3], [4, 5, 6, 7]]"
      ]
     },
     "execution_count": 76,
     "metadata": {},
     "output_type": "execute_result"
    }
   ],
   "source": [
    "matrix = [[1,2,3],[4,5,6,7]]\n",
    "l5 = [i for i in matrix ]\n",
    "l5"
   ]
  },
  {
   "cell_type": "code",
   "execution_count": 77,
   "metadata": {},
   "outputs": [
    {
     "name": "stdout",
     "output_type": "stream",
     "text": [
      "[1, 2, 3]\n",
      "[4, 5, 6, 7]\n"
     ]
    },
    {
     "data": {
      "text/plain": [
       "[[7, 6, 5, 4], [3, 2, 1]]"
      ]
     },
     "execution_count": 77,
     "metadata": {},
     "output_type": "execute_result"
    }
   ],
   "source": [
    "#每个元素均倒序\n",
    "b = []\n",
    "a = []\n",
    "for i in range(2):\n",
    "    a = matrix[i]\n",
    "    print(a)\n",
    "    a.reverse()\n",
    "    b.append(a)\n",
    "b.reverse()\n",
    "b"
   ]
  },
  {
   "cell_type": "code",
   "execution_count": null,
   "metadata": {},
   "outputs": [],
   "source": []
  },
  {
   "cell_type": "code",
   "execution_count": 80,
   "metadata": {},
   "outputs": [
    {
     "ename": "TypeError",
     "evalue": "'list' object is not callable",
     "output_type": "error",
     "traceback": [
      "\u001b[1;31m---------------------------------------------------------------------------\u001b[0m",
      "\u001b[1;31mTypeError\u001b[0m                                 Traceback (most recent call last)",
      "\u001b[1;32m<ipython-input-80-45842b4d0211>\u001b[0m in \u001b[0;36m<module>\u001b[1;34m()\u001b[0m\n\u001b[1;32m----> 1\u001b[1;33m \u001b[0ml6\u001b[0m \u001b[1;33m=\u001b[0m \u001b[1;33m[\u001b[0m \u001b[0mmatrix\u001b[0m\u001b[1;33m[\u001b[0m\u001b[0mi\u001b[0m\u001b[1;33m]\u001b[0m \u001b[1;32mfor\u001b[0m \u001b[0mi\u001b[0m \u001b[1;32min\u001b[0m \u001b[0mrange\u001b[0m\u001b[1;33m(\u001b[0m\u001b[1;36m2\u001b[0m\u001b[1;33m)\u001b[0m \u001b[1;33m]\u001b[0m\u001b[1;33m(\u001b[0m\u001b[1;32mlambda\u001b[0m \u001b[0mx\u001b[0m \u001b[1;33m:\u001b[0m \u001b[0mx\u001b[0m\u001b[1;33m.\u001b[0m\u001b[0mreverse\u001b[0m\u001b[1;33m(\u001b[0m\u001b[1;33m)\u001b[0m\u001b[1;33m)\u001b[0m\u001b[1;33m\u001b[0m\u001b[0m\n\u001b[0m\u001b[0;32m      2\u001b[0m \u001b[0ml6\u001b[0m\u001b[1;33m.\u001b[0m\u001b[0mreverse\u001b[0m\u001b[1;33m(\u001b[0m\u001b[1;33m)\u001b[0m\u001b[1;33m\u001b[0m\u001b[0m\n\u001b[0;32m      3\u001b[0m \u001b[0ml6\u001b[0m\u001b[1;33m\u001b[0m\u001b[0m\n",
      "\u001b[1;31mTypeError\u001b[0m: 'list' object is not callable"
     ]
    }
   ],
   "source": [
    "l6 = [ matrix[i] for i in range(2) ](lambda x : x.reverse())\n",
    "l6.reverse()\n",
    "l6"
   ]
  },
  {
   "cell_type": "markdown",
   "metadata": {},
   "source": [
    "#### tuple"
   ]
  },
  {
   "cell_type": "markdown",
   "metadata": {},
   "source": [
    "tuple类型的数据,不允许修改tuple某个单元的数据 ，内容不可变  \\n\n",
    "在定义的function return 的为数据类型一般为tuple\n"
   ]
  },
  {
   "cell_type": "code",
   "execution_count": 82,
   "metadata": {},
   "outputs": [
    {
     "name": "stdout",
     "output_type": "stream",
     "text": [
      "t :  (12345, 54321, 'hello!')\n",
      "t[0] :  12345\n",
      "u :  ((12345, 54321, 'hello!'), (1, 2, 3, 4, 5))\n"
     ]
    }
   ],
   "source": [
    "#tuple()\n",
    "t = 12345, 54321, 'hello!'\n",
    "print('t : ',t)\n",
    "print('t[0] : ',t[0])\n",
    "\n",
    "# Tuples may be nested:\n",
    "u = t, (1, 2, 3, 4, 5)\n",
    "print('u : ',u)\n"
   ]
  },
  {
   "cell_type": "code",
   "execution_count": 85,
   "metadata": {},
   "outputs": [
    {
     "data": {
      "text/plain": [
       "(12345, 54321)"
      ]
     },
     "execution_count": 85,
     "metadata": {},
     "output_type": "execute_result"
    }
   ],
   "source": [
    "u[0][:2]"
   ]
  },
  {
   "cell_type": "code",
   "execution_count": 89,
   "metadata": {},
   "outputs": [
    {
     "ename": "TypeError",
     "evalue": "'tuple' object does not support item assignment",
     "output_type": "error",
     "traceback": [
      "\u001b[1;31m---------------------------------------------------------------------------\u001b[0m",
      "\u001b[1;31mTypeError\u001b[0m                                 Traceback (most recent call last)",
      "\u001b[1;32m<ipython-input-89-e1a59d9038ee>\u001b[0m in \u001b[0;36m<module>\u001b[1;34m()\u001b[0m\n\u001b[0;32m      1\u001b[0m \u001b[1;31m# Tuples are immutable:\u001b[0m\u001b[1;33m\u001b[0m\u001b[1;33m\u001b[0m\u001b[0m\n\u001b[1;32m----> 2\u001b[1;33m \u001b[0mt\u001b[0m\u001b[1;33m[\u001b[0m\u001b[1;36m0\u001b[0m\u001b[1;33m]\u001b[0m \u001b[1;33m=\u001b[0m \u001b[1;36m88888\u001b[0m\u001b[1;33m\u001b[0m\u001b[0m\n\u001b[0m",
      "\u001b[1;31mTypeError\u001b[0m: 'tuple' object does not support item assignment"
     ]
    }
   ],
   "source": [
    "# Tuples are immutable:\n",
    "t[0] = 88888\n"
   ]
  },
  {
   "cell_type": "code",
   "execution_count": 99,
   "metadata": {},
   "outputs": [
    {
     "name": "stdout",
     "output_type": "stream",
     "text": [
      "y: 54321\n",
      "b: (1, 2, 3, 4, 5)\n"
     ]
    }
   ],
   "source": [
    "#可以分别赋值\n",
    "x,y,z = t\n",
    "print('y: {}'.format(y))\n",
    "a,b = u\n",
    "print('b: {}'.format(b))"
   ]
  },
  {
   "cell_type": "code",
   "execution_count": 101,
   "metadata": {},
   "outputs": [
    {
     "data": {
      "text/plain": [
       "(1, 2, 3, 4, 5)"
      ]
     },
     "execution_count": 101,
     "metadata": {},
     "output_type": "execute_result"
    }
   ],
   "source": [
    "b"
   ]
  },
  {
   "cell_type": "code",
   "execution_count": 102,
   "metadata": {},
   "outputs": [],
   "source": [
    "b = 123,'a'"
   ]
  },
  {
   "cell_type": "code",
   "execution_count": 108,
   "metadata": {},
   "outputs": [
    {
     "data": {
      "text/plain": [
       "123"
      ]
     },
     "execution_count": 108,
     "metadata": {},
     "output_type": "execute_result"
    }
   ],
   "source": [
    "b[0]"
   ]
  },
  {
   "cell_type": "markdown",
   "metadata": {},
   "source": [
    "#### set"
   ]
  },
  {
   "cell_type": "markdown",
   "metadata": {},
   "source": [
    "set类型数据是无序列关系型数据，set(data)输出是不重复的数据 ，类似于unique"
   ]
  },
  {
   "cell_type": "code",
   "execution_count": 109,
   "metadata": {},
   "outputs": [
    {
     "data": {
      "text/plain": [
       "{'d', 'r'}"
      ]
     },
     "execution_count": 109,
     "metadata": {},
     "output_type": "execute_result"
    }
   ],
   "source": [
    "#set()\n",
    "a = {x for x in 'abracadabra' if x not in 'abc'}\n",
    "a"
   ]
  },
  {
   "cell_type": "markdown",
   "metadata": {},
   "source": [
    "#### dict"
   ]
  },
  {
   "cell_type": "code",
   "execution_count": null,
   "metadata": {},
   "outputs": [],
   "source": []
  },
  {
   "cell_type": "code",
   "execution_count": 118,
   "metadata": {},
   "outputs": [
    {
     "name": "stdout",
     "output_type": "stream",
     "text": [
      "{'jack': 4098, 'sape': 4139}\n",
      "{'jack': 4098, 'sape': 4139, 'guido': 4127}\n"
     ]
    },
    {
     "data": {
      "text/plain": [
       "(4098, dict_keys(['jack', 'sape', 'guido']), dict_values([4098, 4139, 4127]))"
      ]
     },
     "execution_count": 118,
     "metadata": {},
     "output_type": "execute_result"
    }
   ],
   "source": [
    "#dict()\n",
    "tel = {'jack': 4098, 'sape': 4139}\n",
    "print(tel)\n",
    "tel['guido'] = 4127\n",
    "print(tel)\n",
    "tel['jack'] ,tel.keys() ,tel.values()"
   ]
  },
  {
   "cell_type": "markdown",
   "metadata": {},
   "source": [
    "## numpy"
   ]
  },
  {
   "cell_type": "code",
   "execution_count": 119,
   "metadata": {},
   "outputs": [],
   "source": [
    "import numpy as np"
   ]
  },
  {
   "cell_type": "code",
   "execution_count": 129,
   "metadata": {},
   "outputs": [
    {
     "name": "stdout",
     "output_type": "stream",
     "text": [
      "a: [0 1 2 3 4 5 6 7 8 9] \n",
      " a.type: <class 'numpy.ndarray'> \n",
      " a.shape: (10,) \n",
      "a.reshape(2,-1) : \n",
      "[[0 1 2 3 4]\n",
      " [5 6 7 8 9]]\n",
      "a.reshape(-1,): [0 1 2 3 4 5 6 7 8 9]\n"
     ]
    }
   ],
   "source": [
    "#np.array 维度的变换 np.array.reshape()\n",
    "a = np.array([i for i in range(10)])\n",
    "print('a: {} \\n a.type: {} \\n a.shape: {} '.format(a,type(a),a.shape ))\n",
    "\n",
    "print('a.reshape(2,-1) : \\n{}'.format(a.reshape(2,-1)))\n",
    "\n",
    "print('a.reshape(-1,): {}'.format(a.reshape(-1,))) #将多维数据展为一维"
   ]
  },
  {
   "cell_type": "code",
   "execution_count": 141,
   "metadata": {},
   "outputs": [
    {
     "name": "stdout",
     "output_type": "stream",
     "text": [
      "a1 :\n",
      "[[ 0.  0.  0.]\n",
      " [ 0.  0.  0.]]\n",
      " a2 :\n",
      "[[ 1.  1.]\n",
      " [ 1.  1.]\n",
      " [ 1.  1.]]\n",
      " a3 : \n",
      "[[6 6 6]\n",
      " [6 6 6]]\n",
      " a4 : \n",
      "[[ 1.  0.  0.]\n",
      " [ 0.  1.  0.]\n",
      " [ 0.  0.  1.]]\n",
      " a5 : \n",
      "[[ 0.17125423  0.10630198  0.93467691]\n",
      " [ 0.57435843  0.17629583  0.50847403]]\n"
     ]
    }
   ],
   "source": [
    "#创建全0（全1）数组\n",
    "a1 = np.zeros((2,3))\n",
    "a2 = np.ones((3,2))\n",
    "\n",
    "#创建恒量数组\n",
    "a3 = np.full((2,3),6)\n",
    "\n",
    "#生成单位矩阵\n",
    "a4 = np.eye(3)\n",
    "\n",
    "a5 = np.random.random((2,3))\n",
    "\n",
    "print('a1 :\\n{}\\n a2 :\\n{}\\n a3 : \\n{}\\n a4 : \\n{}\\n a5 : \\n{}'.format(a1,a2,a3,a4,a5))"
   ]
  },
  {
   "cell_type": "code",
   "execution_count": 145,
   "metadata": {},
   "outputs": [
    {
     "name": "stdout",
     "output_type": "stream",
     "text": [
      "a6\n",
      " [[ 1  2  3  4]\n",
      " [ 5  6  7  8]\n",
      " [ 9 10 11 12]]\n",
      "a6[1,:] [5 6 7 8]\n",
      "a6[:,2] [ 3  7 11]\n",
      "a6[2,3] 12\n"
     ]
    }
   ],
   "source": [
    "a6 = np.array([i for i in range(1,13)]).reshape(3,4)\n",
    "print('a6\\n',a6)\n",
    "print('a6[1,:]',a6[1,:])\n",
    "print('a6[:,2]',a6[:,2])\n",
    "print('a6[2,3]',a6[2,3])"
   ]
  },
  {
   "cell_type": "markdown",
   "metadata": {},
   "source": [
    "##### array math"
   ]
  },
  {
   "cell_type": "code",
   "execution_count": 159,
   "metadata": {},
   "outputs": [
    {
     "name": "stdout",
     "output_type": "stream",
     "text": [
      "x/y:\n",
      " [[ 0.2         0.33333333]\n",
      " [ 0.42857143  0.5       ]]\n",
      " x*y\n",
      " [[  5.  12.]\n",
      " [ 21.  32.]]\n",
      "[[ 19.  22.]\n",
      " [ 43.  50.]] \n",
      "\n",
      "[ 3.  7.] \n",
      "\n",
      "[[ 1.  3.]\n",
      " [ 2.  4.]]\n"
     ]
    }
   ],
   "source": [
    "x = np.array([[1,2],[3,4]],dtype=np.float64)\n",
    "y = np.array([[5,6],[7,8]],dtype=np.float64)\n",
    "\n",
    "print('x/y:\\n {}\\n x*y\\n {}'.format(x/y, np.multiply(x,y)))\n",
    "#numpy 的加减乘除\n",
    "#np.add(x,y)  #加\n",
    "#np.subtract(x,y) #减\n",
    "#np.multiply(x,y)\n",
    "#np.divide(x,y)\n",
    "#np.sqrt(x) #开根\n",
    "\n",
    "\n",
    "#矩阵相乘\n",
    "print(np.dot(x,y),'\\n')\n",
    "\n",
    "#求和\n",
    "print(np.sum(x,axis=1),'\\n')\n",
    "\n",
    "#转置 .T\n",
    "print(x.T)"
   ]
  },
  {
   "cell_type": "code",
   "execution_count": 160,
   "metadata": {},
   "outputs": [
    {
     "name": "stdout",
     "output_type": "stream",
     "text": [
      "[[ 2  2  4]\n",
      " [ 5  5  7]\n",
      " [ 8  8 10]\n",
      " [11 11 13]]\n"
     ]
    }
   ],
   "source": [
    "import numpy as np\n",
    "\n",
    "# We will add the vector v to each row of the matrix x,\n",
    "# storing the result in the matrix y\n",
    "x = np.array([[1,2,3], [4,5,6], [7,8,9], [10, 11, 12]])\n",
    "v = np.array([1, 0, 1])\n",
    "y = np.empty_like(x)   # Create an empty matrix with the same shape as x\n",
    "\n",
    "# Add the vector v to each row of the matrix x with an explicit loop\n",
    "for i in range(4):\n",
    "    y[i, :] = x[i, :] + v\n",
    "\n",
    "print(y)"
   ]
  },
  {
   "cell_type": "code",
   "execution_count": null,
   "metadata": {},
   "outputs": [],
   "source": [
    "a = np.array([i for i in range(1,13)])\n",
    "print('a=\\n',a)\n",
    "b = np.array([i for i in range(5,18)])\n",
    "print('b=\\n',b)\n",
    "ua = a.mean()\n",
    "ub = b.mean()\n",
    "ta = a.std()\n",
    "tb = b.std()\n"
   ]
  },
  {
   "cell_type": "code",
   "execution_count": null,
   "metadata": {},
   "outputs": [],
   "source": []
  },
  {
   "cell_type": "code",
   "execution_count": 167,
   "metadata": {},
   "outputs": [],
   "source": [
    "?np.corrcoef"
   ]
  },
  {
   "cell_type": "markdown",
   "metadata": {},
   "source": [
    "## Pandas"
   ]
  },
  {
   "cell_type": "code",
   "execution_count": 4,
   "metadata": {},
   "outputs": [],
   "source": [
    "import pandas as pd\n",
    "import numpy as np"
   ]
  },
  {
   "cell_type": "code",
   "execution_count": null,
   "metadata": {},
   "outputs": [],
   "source": [
    "#文件读取与保持\n",
    "#pd.read_csv('filename')\n",
    "#pd.DataFrame.to_csv('filename')"
   ]
  },
  {
   "cell_type": "code",
   "execution_count": 26,
   "metadata": {},
   "outputs": [
    {
     "data": {
      "text/html": [
       "<div>\n",
       "<style>\n",
       "    .dataframe thead tr:only-child th {\n",
       "        text-align: right;\n",
       "    }\n",
       "\n",
       "    .dataframe thead th {\n",
       "        text-align: left;\n",
       "    }\n",
       "\n",
       "    .dataframe tbody tr th {\n",
       "        vertical-align: top;\n",
       "    }\n",
       "</style>\n",
       "<table border=\"1\" class=\"dataframe\">\n",
       "  <thead>\n",
       "    <tr style=\"text-align: right;\">\n",
       "      <th></th>\n",
       "      <th>A</th>\n",
       "      <th>B</th>\n",
       "      <th>c</th>\n",
       "      <th>d</th>\n",
       "      <th>e</th>\n",
       "      <th>f</th>\n",
       "    </tr>\n",
       "  </thead>\n",
       "  <tbody>\n",
       "    <tr>\n",
       "      <th>0</th>\n",
       "      <td>0</td>\n",
       "      <td>1</td>\n",
       "      <td>2</td>\n",
       "      <td>3</td>\n",
       "      <td>4</td>\n",
       "      <td>5</td>\n",
       "    </tr>\n",
       "    <tr>\n",
       "      <th>1</th>\n",
       "      <td>6</td>\n",
       "      <td>7</td>\n",
       "      <td>8</td>\n",
       "      <td>9</td>\n",
       "      <td>10</td>\n",
       "      <td>11</td>\n",
       "    </tr>\n",
       "    <tr>\n",
       "      <th>2</th>\n",
       "      <td>12</td>\n",
       "      <td>13</td>\n",
       "      <td>14</td>\n",
       "      <td>15</td>\n",
       "      <td>16</td>\n",
       "      <td>17</td>\n",
       "    </tr>\n",
       "    <tr>\n",
       "      <th>3</th>\n",
       "      <td>18</td>\n",
       "      <td>19</td>\n",
       "      <td>20</td>\n",
       "      <td>21</td>\n",
       "      <td>22</td>\n",
       "      <td>23</td>\n",
       "    </tr>\n",
       "  </tbody>\n",
       "</table>\n",
       "</div>"
      ],
      "text/plain": [
       "    A   B   c   d   e   f\n",
       "0   0   1   2   3   4   5\n",
       "1   6   7   8   9  10  11\n",
       "2  12  13  14  15  16  17\n",
       "3  18  19  20  21  22  23"
      ]
     },
     "execution_count": 26,
     "metadata": {},
     "output_type": "execute_result"
    }
   ],
   "source": [
    "df1 = pd.DataFrame(np.array([i for i in range(24)]).reshape(4,-1))\n",
    "#重设df1的index\n",
    "#df1 = df1.reset_index(drop=True) #重0开始自动排序\n",
    "#df1 = df1.rename(index={0:'A',1:'B'})\n",
    "#reset columns\n",
    "df1.columns = ['a','b','c','d','e','f'] #直接全部设置\n",
    "#reset some columns\n",
    "#df1.columns.replace(columns={'a':'A','b':'B'})\n",
    "df1 = df1.rename(columns={'a':'A','b':'B'})\n",
    "\n",
    "df1\n",
    "#df1的前几行\n",
    "#df1.head(1)\n",
    "#df1的尾几行\n",
    "#df1.tail(1)"
   ]
  },
  {
   "cell_type": "code",
   "execution_count": 23,
   "metadata": {},
   "outputs": [],
   "source": [
    "?df1.replace"
   ]
  },
  {
   "cell_type": "code",
   "execution_count": 32,
   "metadata": {},
   "outputs": [
    {
     "name": "stdout",
     "output_type": "stream",
     "text": [
      "   d   e   f\n",
      "0  3   4   5\n",
      "1  9  10  11\n",
      "\n",
      " 1     7\n",
      "2    13\n",
      "Name: B, dtype: int32\n",
      "\n",
      " 1     9\n",
      "2    15\n",
      "Name: d, dtype: int32\n",
      "\n",
      " 2    15\n",
      "3    21\n",
      "Name: d, dtype: int32\n"
     ]
    }
   ],
   "source": [
    "#pd.DataFrame选取\n",
    "print(df1.iloc[:2,3:])\n",
    "print('\\n',df1['B'].iloc[1:3])\n",
    "print('\\n',df1.d.iloc[1:3])\n",
    "print('\\n',df1.d[df1.d.apply(lambda x:x>10)]) #输出df1.d中大于10的数"
   ]
  },
  {
   "cell_type": "code",
   "execution_count": 35,
   "metadata": {},
   "outputs": [
    {
     "data": {
      "text/html": [
       "<div>\n",
       "<style>\n",
       "    .dataframe thead tr:only-child th {\n",
       "        text-align: right;\n",
       "    }\n",
       "\n",
       "    .dataframe thead th {\n",
       "        text-align: left;\n",
       "    }\n",
       "\n",
       "    .dataframe tbody tr th {\n",
       "        vertical-align: top;\n",
       "    }\n",
       "</style>\n",
       "<table border=\"1\" class=\"dataframe\">\n",
       "  <thead>\n",
       "    <tr style=\"text-align: right;\">\n",
       "      <th></th>\n",
       "      <th>A</th>\n",
       "      <th>B</th>\n",
       "      <th>c</th>\n",
       "      <th>d</th>\n",
       "      <th>e</th>\n",
       "      <th>f</th>\n",
       "    </tr>\n",
       "  </thead>\n",
       "  <tbody>\n",
       "    <tr>\n",
       "      <th>count</th>\n",
       "      <td>4.000000</td>\n",
       "      <td>4.000000</td>\n",
       "      <td>4.000000</td>\n",
       "      <td>4.000000</td>\n",
       "      <td>4.000000</td>\n",
       "      <td>4.000000</td>\n",
       "    </tr>\n",
       "    <tr>\n",
       "      <th>mean</th>\n",
       "      <td>9.000000</td>\n",
       "      <td>10.000000</td>\n",
       "      <td>11.000000</td>\n",
       "      <td>12.000000</td>\n",
       "      <td>13.000000</td>\n",
       "      <td>14.000000</td>\n",
       "    </tr>\n",
       "    <tr>\n",
       "      <th>std</th>\n",
       "      <td>7.745967</td>\n",
       "      <td>7.745967</td>\n",
       "      <td>7.745967</td>\n",
       "      <td>7.745967</td>\n",
       "      <td>7.745967</td>\n",
       "      <td>7.745967</td>\n",
       "    </tr>\n",
       "    <tr>\n",
       "      <th>min</th>\n",
       "      <td>0.000000</td>\n",
       "      <td>1.000000</td>\n",
       "      <td>2.000000</td>\n",
       "      <td>3.000000</td>\n",
       "      <td>4.000000</td>\n",
       "      <td>5.000000</td>\n",
       "    </tr>\n",
       "    <tr>\n",
       "      <th>25%</th>\n",
       "      <td>4.500000</td>\n",
       "      <td>5.500000</td>\n",
       "      <td>6.500000</td>\n",
       "      <td>7.500000</td>\n",
       "      <td>8.500000</td>\n",
       "      <td>9.500000</td>\n",
       "    </tr>\n",
       "    <tr>\n",
       "      <th>50%</th>\n",
       "      <td>9.000000</td>\n",
       "      <td>10.000000</td>\n",
       "      <td>11.000000</td>\n",
       "      <td>12.000000</td>\n",
       "      <td>13.000000</td>\n",
       "      <td>14.000000</td>\n",
       "    </tr>\n",
       "    <tr>\n",
       "      <th>75%</th>\n",
       "      <td>13.500000</td>\n",
       "      <td>14.500000</td>\n",
       "      <td>15.500000</td>\n",
       "      <td>16.500000</td>\n",
       "      <td>17.500000</td>\n",
       "      <td>18.500000</td>\n",
       "    </tr>\n",
       "    <tr>\n",
       "      <th>max</th>\n",
       "      <td>18.000000</td>\n",
       "      <td>19.000000</td>\n",
       "      <td>20.000000</td>\n",
       "      <td>21.000000</td>\n",
       "      <td>22.000000</td>\n",
       "      <td>23.000000</td>\n",
       "    </tr>\n",
       "  </tbody>\n",
       "</table>\n",
       "</div>"
      ],
      "text/plain": [
       "               A          B          c          d          e          f\n",
       "count   4.000000   4.000000   4.000000   4.000000   4.000000   4.000000\n",
       "mean    9.000000  10.000000  11.000000  12.000000  13.000000  14.000000\n",
       "std     7.745967   7.745967   7.745967   7.745967   7.745967   7.745967\n",
       "min     0.000000   1.000000   2.000000   3.000000   4.000000   5.000000\n",
       "25%     4.500000   5.500000   6.500000   7.500000   8.500000   9.500000\n",
       "50%     9.000000  10.000000  11.000000  12.000000  13.000000  14.000000\n",
       "75%    13.500000  14.500000  15.500000  16.500000  17.500000  18.500000\n",
       "max    18.000000  19.000000  20.000000  21.000000  22.000000  23.000000"
      ]
     },
     "execution_count": 35,
     "metadata": {},
     "output_type": "execute_result"
    }
   ],
   "source": [
    "#可进行数学运算\n",
    "#df1.sum()\n",
    "#df1.mean()\n",
    "#df1.T\n",
    "df1.describe()"
   ]
  },
  {
   "cell_type": "code",
   "execution_count": 74,
   "metadata": {},
   "outputs": [
    {
     "data": {
      "text/html": [
       "<div>\n",
       "<style>\n",
       "    .dataframe thead tr:only-child th {\n",
       "        text-align: right;\n",
       "    }\n",
       "\n",
       "    .dataframe thead th {\n",
       "        text-align: left;\n",
       "    }\n",
       "\n",
       "    .dataframe tbody tr th {\n",
       "        vertical-align: top;\n",
       "    }\n",
       "</style>\n",
       "<table border=\"1\" class=\"dataframe\">\n",
       "  <thead>\n",
       "    <tr style=\"text-align: right;\">\n",
       "      <th></th>\n",
       "      <th>Pclass</th>\n",
       "      <th>Sex</th>\n",
       "      <th>Age</th>\n",
       "      <th>SibSp</th>\n",
       "      <th>Parch</th>\n",
       "      <th>logFare</th>\n",
       "      <th>Embarked</th>\n",
       "      <th>live</th>\n",
       "      <th>die</th>\n",
       "    </tr>\n",
       "  </thead>\n",
       "  <tbody>\n",
       "    <tr>\n",
       "      <th>97</th>\n",
       "      <td>1</td>\n",
       "      <td>male</td>\n",
       "      <td>23.0</td>\n",
       "      <td>0</td>\n",
       "      <td>1</td>\n",
       "      <td>1.801803516</td>\n",
       "      <td>C</td>\n",
       "      <td>1</td>\n",
       "      <td>0</td>\n",
       "    </tr>\n",
       "    <tr>\n",
       "      <th>98</th>\n",
       "      <td>2</td>\n",
       "      <td>female</td>\n",
       "      <td>34.0</td>\n",
       "      <td>0</td>\n",
       "      <td>1</td>\n",
       "      <td>1.361727836</td>\n",
       "      <td>S</td>\n",
       "      <td>1</td>\n",
       "      <td>0</td>\n",
       "    </tr>\n",
       "    <tr>\n",
       "      <th>99</th>\n",
       "      <td>2</td>\n",
       "      <td>male</td>\n",
       "      <td>34.0</td>\n",
       "      <td>1</td>\n",
       "      <td>0</td>\n",
       "      <td>1.414973348</td>\n",
       "      <td>S</td>\n",
       "      <td>0</td>\n",
       "      <td>1</td>\n",
       "    </tr>\n",
       "  </tbody>\n",
       "</table>\n",
       "</div>"
      ],
      "text/plain": [
       "    Pclass     Sex   Age  SibSp  Parch      logFare Embarked  live  die\n",
       "97       1    male  23.0      0      1  1.801803516        C     1    0\n",
       "98       2  female  34.0      0      1  1.361727836        S     1    0\n",
       "99       2    male  34.0      1      0  1.414973348        S     0    1"
      ]
     },
     "execution_count": 74,
     "metadata": {},
     "output_type": "execute_result"
    }
   ],
   "source": [
    "data_pass = 'F:/Courses/Python/python/'\n",
    "dataset = pd.read_csv(data_pass+'titanic_data.csv')\n",
    "data = dataset.iloc[:100]\n",
    "data.tail(3)"
   ]
  },
  {
   "cell_type": "code",
   "execution_count": 75,
   "metadata": {},
   "outputs": [
    {
     "data": {
      "text/plain": [
       "({'S', nan, 'Q', 'C'}, 4)"
      ]
     },
     "execution_count": 75,
     "metadata": {},
     "output_type": "execute_result"
    }
   ],
   "source": [
    "set(data['Embarked']),len(set(data['Embarked']))"
   ]
  },
  {
   "cell_type": "code",
   "execution_count": 76,
   "metadata": {},
   "outputs": [
    {
     "name": "stderr",
     "output_type": "stream",
     "text": [
      "E:\\azrj\\Anaconda3\\lib\\site-packages\\ipykernel_launcher.py:1: SettingWithCopyWarning: \n",
      "A value is trying to be set on a copy of a slice from a DataFrame.\n",
      "Try using .loc[row_indexer,col_indexer] = value instead\n",
      "\n",
      "See the caveats in the documentation: http://pandas.pydata.org/pandas-docs/stable/indexing.html#indexing-view-versus-copy\n",
      "  \"\"\"Entry point for launching an IPython kernel.\n",
      "E:\\azrj\\Anaconda3\\lib\\site-packages\\ipykernel_launcher.py:2: SettingWithCopyWarning: \n",
      "A value is trying to be set on a copy of a slice from a DataFrame.\n",
      "Try using .loc[row_indexer,col_indexer] = value instead\n",
      "\n",
      "See the caveats in the documentation: http://pandas.pydata.org/pandas-docs/stable/indexing.html#indexing-view-versus-copy\n",
      "  \n"
     ]
    },
    {
     "data": {
      "text/html": [
       "<div>\n",
       "<style>\n",
       "    .dataframe thead tr:only-child th {\n",
       "        text-align: right;\n",
       "    }\n",
       "\n",
       "    .dataframe thead th {\n",
       "        text-align: left;\n",
       "    }\n",
       "\n",
       "    .dataframe tbody tr th {\n",
       "        vertical-align: top;\n",
       "    }\n",
       "</style>\n",
       "<table border=\"1\" class=\"dataframe\">\n",
       "  <thead>\n",
       "    <tr style=\"text-align: right;\">\n",
       "      <th></th>\n",
       "      <th>Pclass</th>\n",
       "      <th>Sex</th>\n",
       "      <th>Age</th>\n",
       "      <th>SibSp</th>\n",
       "      <th>Parch</th>\n",
       "      <th>logFare</th>\n",
       "      <th>Embarked</th>\n",
       "      <th>live</th>\n",
       "      <th>die</th>\n",
       "    </tr>\n",
       "  </thead>\n",
       "  <tbody>\n",
       "    <tr>\n",
       "      <th>97</th>\n",
       "      <td>1</td>\n",
       "      <td>0</td>\n",
       "      <td>23.0</td>\n",
       "      <td>0</td>\n",
       "      <td>1</td>\n",
       "      <td>1.801803516</td>\n",
       "      <td>3</td>\n",
       "      <td>1</td>\n",
       "      <td>0</td>\n",
       "    </tr>\n",
       "    <tr>\n",
       "      <th>98</th>\n",
       "      <td>2</td>\n",
       "      <td>1</td>\n",
       "      <td>34.0</td>\n",
       "      <td>0</td>\n",
       "      <td>1</td>\n",
       "      <td>1.361727836</td>\n",
       "      <td>0</td>\n",
       "      <td>1</td>\n",
       "      <td>0</td>\n",
       "    </tr>\n",
       "    <tr>\n",
       "      <th>99</th>\n",
       "      <td>2</td>\n",
       "      <td>0</td>\n",
       "      <td>34.0</td>\n",
       "      <td>1</td>\n",
       "      <td>0</td>\n",
       "      <td>1.414973348</td>\n",
       "      <td>0</td>\n",
       "      <td>0</td>\n",
       "      <td>1</td>\n",
       "    </tr>\n",
       "  </tbody>\n",
       "</table>\n",
       "</div>"
      ],
      "text/plain": [
       "    Pclass  Sex   Age  SibSp  Parch      logFare  Embarked  live  die\n",
       "97       1    0  23.0      0      1  1.801803516         3     1    0\n",
       "98       2    1  34.0      0      1  1.361727836         0     1    0\n",
       "99       2    0  34.0      1      0  1.414973348         0     0    1"
      ]
     },
     "execution_count": 76,
     "metadata": {},
     "output_type": "execute_result"
    }
   ],
   "source": [
    "data['Sex'] = data['Sex'].replace({'male':0,'female':1})\n",
    "data['Embarked'] = data['Embarked'].replace(set(data['Embarked']),[i for i in range(len(set(data['Embarked'])))])\n",
    "data.tail(3)"
   ]
  },
  {
   "cell_type": "code",
   "execution_count": 54,
   "metadata": {},
   "outputs": [],
   "source": [
    "?pd.DataFrame.sort_values"
   ]
  },
  {
   "cell_type": "code",
   "execution_count": 39,
   "metadata": {},
   "outputs": [],
   "source": []
  },
  {
   "cell_type": "markdown",
   "metadata": {},
   "source": [
    "## Datetime"
   ]
  },
  {
   "cell_type": "code",
   "execution_count": 1,
   "metadata": {},
   "outputs": [],
   "source": [
    "import numpy as np\n",
    "import pandas as pd\n",
    "import datetime as dt\n",
    "import time"
   ]
  },
  {
   "cell_type": "code",
   "execution_count": 49,
   "metadata": {},
   "outputs": [],
   "source": [
    "?pd.read_csv"
   ]
  },
  {
   "cell_type": "code",
   "execution_count": 2,
   "metadata": {},
   "outputs": [
    {
     "data": {
      "text/html": [
       "<div>\n",
       "<style>\n",
       "    .dataframe thead tr:only-child th {\n",
       "        text-align: right;\n",
       "    }\n",
       "\n",
       "    .dataframe thead th {\n",
       "        text-align: left;\n",
       "    }\n",
       "\n",
       "    .dataframe tbody tr th {\n",
       "        vertical-align: top;\n",
       "    }\n",
       "</style>\n",
       "<table border=\"1\" class=\"dataframe\">\n",
       "  <thead>\n",
       "    <tr style=\"text-align: right;\">\n",
       "      <th></th>\n",
       "      <th>y-m-d</th>\n",
       "      <th>h-s</th>\n",
       "      <th>Open</th>\n",
       "      <th>High</th>\n",
       "      <th>Low</th>\n",
       "      <th>Close</th>\n",
       "      <th>Volume</th>\n",
       "    </tr>\n",
       "  </thead>\n",
       "  <tbody>\n",
       "    <tr>\n",
       "      <th>195</th>\n",
       "      <td>2004.06.14</td>\n",
       "      <td>06:55</td>\n",
       "      <td>382.1</td>\n",
       "      <td>382.3</td>\n",
       "      <td>382.1</td>\n",
       "      <td>382.3</td>\n",
       "      <td>2</td>\n",
       "    </tr>\n",
       "    <tr>\n",
       "      <th>196</th>\n",
       "      <td>2004.06.14</td>\n",
       "      <td>07:00</td>\n",
       "      <td>382.1</td>\n",
       "      <td>382.3</td>\n",
       "      <td>382.1</td>\n",
       "      <td>382.3</td>\n",
       "      <td>2</td>\n",
       "    </tr>\n",
       "    <tr>\n",
       "      <th>197</th>\n",
       "      <td>2004.06.14</td>\n",
       "      <td>07:05</td>\n",
       "      <td>382.1</td>\n",
       "      <td>382.3</td>\n",
       "      <td>382.1</td>\n",
       "      <td>382.1</td>\n",
       "      <td>5</td>\n",
       "    </tr>\n",
       "    <tr>\n",
       "      <th>198</th>\n",
       "      <td>2004.06.14</td>\n",
       "      <td>07:10</td>\n",
       "      <td>382.3</td>\n",
       "      <td>382.3</td>\n",
       "      <td>382.1</td>\n",
       "      <td>382.3</td>\n",
       "      <td>3</td>\n",
       "    </tr>\n",
       "    <tr>\n",
       "      <th>199</th>\n",
       "      <td>2004.06.14</td>\n",
       "      <td>07:15</td>\n",
       "      <td>382.3</td>\n",
       "      <td>382.3</td>\n",
       "      <td>382.3</td>\n",
       "      <td>382.3</td>\n",
       "      <td>1</td>\n",
       "    </tr>\n",
       "  </tbody>\n",
       "</table>\n",
       "</div>"
      ],
      "text/plain": [
       "          y-m-d    h-s   Open   High    Low  Close  Volume\n",
       "195  2004.06.14  06:55  382.1  382.3  382.1  382.3       2\n",
       "196  2004.06.14  07:00  382.1  382.3  382.1  382.3       2\n",
       "197  2004.06.14  07:05  382.1  382.3  382.1  382.1       5\n",
       "198  2004.06.14  07:10  382.3  382.3  382.1  382.3       3\n",
       "199  2004.06.14  07:15  382.3  382.3  382.3  382.3       1"
      ]
     },
     "execution_count": 2,
     "metadata": {},
     "output_type": "execute_result"
    }
   ],
   "source": [
    "data_pass = 'F:/Courses/Python/python/'\n",
    "dataset = pd.read_csv(data_pass+'XAUUSD5_2004Y_1.csv')\n",
    "data = dataset.iloc[:200,:7]\n",
    "data.tail()"
   ]
  },
  {
   "cell_type": "code",
   "execution_count": 3,
   "metadata": {},
   "outputs": [
    {
     "data": {
      "text/html": [
       "<div>\n",
       "<style>\n",
       "    .dataframe thead tr:only-child th {\n",
       "        text-align: right;\n",
       "    }\n",
       "\n",
       "    .dataframe thead th {\n",
       "        text-align: left;\n",
       "    }\n",
       "\n",
       "    .dataframe tbody tr th {\n",
       "        vertical-align: top;\n",
       "    }\n",
       "</style>\n",
       "<table border=\"1\" class=\"dataframe\">\n",
       "  <thead>\n",
       "    <tr style=\"text-align: right;\">\n",
       "      <th></th>\n",
       "      <th>Date</th>\n",
       "      <th>Time</th>\n",
       "      <th>Open</th>\n",
       "      <th>High</th>\n",
       "      <th>Low</th>\n",
       "      <th>Close</th>\n",
       "      <th>Volume</th>\n",
       "    </tr>\n",
       "  </thead>\n",
       "  <tbody>\n",
       "    <tr>\n",
       "      <th>0</th>\n",
       "      <td>2004-06-11</td>\n",
       "      <td>04:15</td>\n",
       "      <td>384.0</td>\n",
       "      <td>384.1</td>\n",
       "      <td>384.0</td>\n",
       "      <td>384.0</td>\n",
       "      <td>3</td>\n",
       "    </tr>\n",
       "    <tr>\n",
       "      <th>1</th>\n",
       "      <td>2004-06-11</td>\n",
       "      <td>04:20</td>\n",
       "      <td>384.1</td>\n",
       "      <td>384.1</td>\n",
       "      <td>383.8</td>\n",
       "      <td>383.8</td>\n",
       "      <td>3</td>\n",
       "    </tr>\n",
       "    <tr>\n",
       "      <th>2</th>\n",
       "      <td>2004-06-11</td>\n",
       "      <td>04:25</td>\n",
       "      <td>383.8</td>\n",
       "      <td>384.3</td>\n",
       "      <td>383.8</td>\n",
       "      <td>384.3</td>\n",
       "      <td>6</td>\n",
       "    </tr>\n",
       "  </tbody>\n",
       "</table>\n",
       "</div>"
      ],
      "text/plain": [
       "        Date   Time   Open   High    Low  Close  Volume\n",
       "0 2004-06-11  04:15  384.0  384.1  384.0  384.0       3\n",
       "1 2004-06-11  04:20  384.1  384.1  383.8  383.8       3\n",
       "2 2004-06-11  04:25  383.8  384.3  383.8  384.3       6"
      ]
     },
     "execution_count": 3,
     "metadata": {},
     "output_type": "execute_result"
    }
   ],
   "source": [
    "data['y-m-d'] = pd.to_datetime(data['y-m-d'],format='%Y-%m-%d')\n",
    "data = data.rename(columns={'y-m-d':'Date','h-s':'Time'})\n",
    "\n",
    "data.head(3)"
   ]
  },
  {
   "cell_type": "code",
   "execution_count": 4,
   "metadata": {},
   "outputs": [
    {
     "data": {
      "text/html": [
       "<div>\n",
       "<style>\n",
       "    .dataframe thead tr:only-child th {\n",
       "        text-align: right;\n",
       "    }\n",
       "\n",
       "    .dataframe thead th {\n",
       "        text-align: left;\n",
       "    }\n",
       "\n",
       "    .dataframe tbody tr th {\n",
       "        vertical-align: top;\n",
       "    }\n",
       "</style>\n",
       "<table border=\"1\" class=\"dataframe\">\n",
       "  <thead>\n",
       "    <tr style=\"text-align: right;\">\n",
       "      <th></th>\n",
       "      <th>Date</th>\n",
       "      <th>Time</th>\n",
       "      <th>Open</th>\n",
       "      <th>High</th>\n",
       "      <th>Low</th>\n",
       "      <th>Close</th>\n",
       "      <th>Volume</th>\n",
       "      <th>Year</th>\n",
       "      <th>Month</th>\n",
       "      <th>Day</th>\n",
       "      <th>week</th>\n",
       "      <th>dofw</th>\n",
       "    </tr>\n",
       "  </thead>\n",
       "  <tbody>\n",
       "    <tr>\n",
       "      <th>0</th>\n",
       "      <td>2004-06-11</td>\n",
       "      <td>04:15</td>\n",
       "      <td>384.0</td>\n",
       "      <td>384.1</td>\n",
       "      <td>384.0</td>\n",
       "      <td>384.0</td>\n",
       "      <td>3</td>\n",
       "      <td>2004</td>\n",
       "      <td>6</td>\n",
       "      <td>11</td>\n",
       "      <td>24</td>\n",
       "      <td>4</td>\n",
       "    </tr>\n",
       "    <tr>\n",
       "      <th>1</th>\n",
       "      <td>2004-06-11</td>\n",
       "      <td>04:20</td>\n",
       "      <td>384.1</td>\n",
       "      <td>384.1</td>\n",
       "      <td>383.8</td>\n",
       "      <td>383.8</td>\n",
       "      <td>3</td>\n",
       "      <td>2004</td>\n",
       "      <td>6</td>\n",
       "      <td>11</td>\n",
       "      <td>24</td>\n",
       "      <td>4</td>\n",
       "    </tr>\n",
       "    <tr>\n",
       "      <th>2</th>\n",
       "      <td>2004-06-11</td>\n",
       "      <td>04:25</td>\n",
       "      <td>383.8</td>\n",
       "      <td>384.3</td>\n",
       "      <td>383.8</td>\n",
       "      <td>384.3</td>\n",
       "      <td>6</td>\n",
       "      <td>2004</td>\n",
       "      <td>6</td>\n",
       "      <td>11</td>\n",
       "      <td>24</td>\n",
       "      <td>4</td>\n",
       "    </tr>\n",
       "  </tbody>\n",
       "</table>\n",
       "</div>"
      ],
      "text/plain": [
       "        Date   Time   Open   High    Low  Close  Volume  Year  Month  Day  \\\n",
       "0 2004-06-11  04:15  384.0  384.1  384.0  384.0       3  2004      6   11   \n",
       "1 2004-06-11  04:20  384.1  384.1  383.8  383.8       3  2004      6   11   \n",
       "2 2004-06-11  04:25  383.8  384.3  383.8  384.3       6  2004      6   11   \n",
       "\n",
       "   week  dofw  \n",
       "0    24     4  \n",
       "1    24     4  \n",
       "2    24     4  "
      ]
     },
     "execution_count": 4,
     "metadata": {},
     "output_type": "execute_result"
    }
   ],
   "source": [
    "data['Year'] = data['Date'].dt.year\n",
    "data['Month'] = data['Date'].dt.month\n",
    "data['Day'] = data['Date'].dt.day\n",
    "data['week'] = data['Date'].dt.week\n",
    "data['dofw'] = data['Date'].dt.dayofweek\n",
    "data.head(3)"
   ]
  },
  {
   "cell_type": "code",
   "execution_count": 80,
   "metadata": {},
   "outputs": [],
   "source": [
    "?pd.to_datetime"
   ]
  },
  {
   "cell_type": "code",
   "execution_count": 5,
   "metadata": {},
   "outputs": [
    {
     "data": {
      "text/plain": [
       "0   2017-01-01\n",
       "1   2017-01-02\n",
       "2   2017-01-03\n",
       "3   2017-01-04\n",
       "dtype: object"
      ]
     },
     "execution_count": 5,
     "metadata": {},
     "output_type": "execute_result"
    }
   ],
   "source": [
    "pi = pd.Series(pd.period_range('20170101', periods=4))\n",
    "pi"
   ]
  },
  {
   "cell_type": "code",
   "execution_count": 6,
   "metadata": {},
   "outputs": [
    {
     "data": {
      "text/html": [
       "<div>\n",
       "<style>\n",
       "    .dataframe thead tr:only-child th {\n",
       "        text-align: right;\n",
       "    }\n",
       "\n",
       "    .dataframe thead th {\n",
       "        text-align: left;\n",
       "    }\n",
       "\n",
       "    .dataframe tbody tr th {\n",
       "        vertical-align: top;\n",
       "    }\n",
       "</style>\n",
       "<table border=\"1\" class=\"dataframe\">\n",
       "  <thead>\n",
       "    <tr style=\"text-align: right;\">\n",
       "      <th></th>\n",
       "      <th>Date</th>\n",
       "      <th>Open</th>\n",
       "      <th>High</th>\n",
       "      <th>Low</th>\n",
       "      <th>Close</th>\n",
       "      <th>Volume</th>\n",
       "      <th>Year</th>\n",
       "      <th>Month</th>\n",
       "      <th>Day</th>\n",
       "      <th>week</th>\n",
       "      <th>dofw</th>\n",
       "    </tr>\n",
       "  </thead>\n",
       "  <tbody>\n",
       "    <tr>\n",
       "      <th>0</th>\n",
       "      <td>2004-06-11</td>\n",
       "      <td>383.729412</td>\n",
       "      <td>383.814706</td>\n",
       "      <td>383.681373</td>\n",
       "      <td>383.743137</td>\n",
       "      <td>2.666667</td>\n",
       "      <td>2004.0</td>\n",
       "      <td>6.0</td>\n",
       "      <td>11.0</td>\n",
       "      <td>24.0</td>\n",
       "      <td>4.0</td>\n",
       "    </tr>\n",
       "    <tr>\n",
       "      <th>1</th>\n",
       "      <td>2004-06-13</td>\n",
       "      <td>383.515000</td>\n",
       "      <td>383.715000</td>\n",
       "      <td>383.370000</td>\n",
       "      <td>383.545000</td>\n",
       "      <td>3.700000</td>\n",
       "      <td>2004.0</td>\n",
       "      <td>6.0</td>\n",
       "      <td>13.0</td>\n",
       "      <td>24.0</td>\n",
       "      <td>6.0</td>\n",
       "    </tr>\n",
       "    <tr>\n",
       "      <th>2</th>\n",
       "      <td>2004-06-14</td>\n",
       "      <td>382.661538</td>\n",
       "      <td>382.810256</td>\n",
       "      <td>382.564103</td>\n",
       "      <td>382.689744</td>\n",
       "      <td>3.525641</td>\n",
       "      <td>2004.0</td>\n",
       "      <td>6.0</td>\n",
       "      <td>14.0</td>\n",
       "      <td>25.0</td>\n",
       "      <td>0.0</td>\n",
       "    </tr>\n",
       "  </tbody>\n",
       "</table>\n",
       "</div>"
      ],
      "text/plain": [
       "        Date        Open        High         Low       Close    Volume  \\\n",
       "0 2004-06-11  383.729412  383.814706  383.681373  383.743137  2.666667   \n",
       "1 2004-06-13  383.515000  383.715000  383.370000  383.545000  3.700000   \n",
       "2 2004-06-14  382.661538  382.810256  382.564103  382.689744  3.525641   \n",
       "\n",
       "     Year  Month   Day  week  dofw  \n",
       "0  2004.0    6.0  11.0  24.0   4.0  \n",
       "1  2004.0    6.0  13.0  24.0   6.0  \n",
       "2  2004.0    6.0  14.0  25.0   0.0  "
      ]
     },
     "execution_count": 6,
     "metadata": {},
     "output_type": "execute_result"
    }
   ],
   "source": [
    "d1 = data.groupby(['Date'],as_index=False).mean()\n",
    "d1.head()"
   ]
  },
  {
   "cell_type": "code",
   "execution_count": null,
   "metadata": {},
   "outputs": [],
   "source": []
  },
  {
   "cell_type": "markdown",
   "metadata": {},
   "source": [
    "## matplotlib"
   ]
  },
  {
   "cell_type": "code",
   "execution_count": 7,
   "metadata": {},
   "outputs": [],
   "source": [
    "import numpy as np\n",
    "import pandas as pd\n",
    "import matplotlib.pyplot as plt\n",
    "%matplotlib inline"
   ]
  },
  {
   "cell_type": "code",
   "execution_count": 19,
   "metadata": {},
   "outputs": [
    {
     "data": {
      "text/html": [
       "<div>\n",
       "<style>\n",
       "    .dataframe thead tr:only-child th {\n",
       "        text-align: right;\n",
       "    }\n",
       "\n",
       "    .dataframe thead th {\n",
       "        text-align: left;\n",
       "    }\n",
       "\n",
       "    .dataframe tbody tr th {\n",
       "        vertical-align: top;\n",
       "    }\n",
       "</style>\n",
       "<table border=\"1\" class=\"dataframe\">\n",
       "  <thead>\n",
       "    <tr style=\"text-align: right;\">\n",
       "      <th></th>\n",
       "      <th>y-m-d</th>\n",
       "      <th>h-s</th>\n",
       "      <th>Open</th>\n",
       "      <th>High</th>\n",
       "      <th>Low</th>\n",
       "      <th>Close</th>\n",
       "      <th>Volume</th>\n",
       "      <th>Close-Open</th>\n",
       "      <th>Label_One_3</th>\n",
       "      <th>Up_2</th>\n",
       "      <th>Down_2</th>\n",
       "      <th>Up_3</th>\n",
       "      <th>Down_3</th>\n",
       "      <th>Alike_3</th>\n",
       "    </tr>\n",
       "  </thead>\n",
       "  <tbody>\n",
       "    <tr>\n",
       "      <th>0</th>\n",
       "      <td>2004.06.11</td>\n",
       "      <td>04:15</td>\n",
       "      <td>384.0</td>\n",
       "      <td>384.1</td>\n",
       "      <td>384.0</td>\n",
       "      <td>384.0</td>\n",
       "      <td>3</td>\n",
       "      <td>0.0</td>\n",
       "      <td>0</td>\n",
       "      <td>0</td>\n",
       "      <td>1</td>\n",
       "      <td>0</td>\n",
       "      <td>0</td>\n",
       "      <td>1</td>\n",
       "    </tr>\n",
       "    <tr>\n",
       "      <th>1</th>\n",
       "      <td>2004.06.11</td>\n",
       "      <td>04:20</td>\n",
       "      <td>384.1</td>\n",
       "      <td>384.1</td>\n",
       "      <td>383.8</td>\n",
       "      <td>383.8</td>\n",
       "      <td>3</td>\n",
       "      <td>-0.3</td>\n",
       "      <td>-1</td>\n",
       "      <td>0</td>\n",
       "      <td>1</td>\n",
       "      <td>0</td>\n",
       "      <td>1</td>\n",
       "      <td>0</td>\n",
       "    </tr>\n",
       "    <tr>\n",
       "      <th>2</th>\n",
       "      <td>2004.06.11</td>\n",
       "      <td>04:25</td>\n",
       "      <td>383.8</td>\n",
       "      <td>384.3</td>\n",
       "      <td>383.8</td>\n",
       "      <td>384.3</td>\n",
       "      <td>6</td>\n",
       "      <td>0.5</td>\n",
       "      <td>1</td>\n",
       "      <td>1</td>\n",
       "      <td>0</td>\n",
       "      <td>1</td>\n",
       "      <td>0</td>\n",
       "      <td>0</td>\n",
       "    </tr>\n",
       "  </tbody>\n",
       "</table>\n",
       "</div>"
      ],
      "text/plain": [
       "        y-m-d    h-s   Open   High    Low  Close  Volume  Close-Open  \\\n",
       "0  2004.06.11  04:15  384.0  384.1  384.0  384.0       3         0.0   \n",
       "1  2004.06.11  04:20  384.1  384.1  383.8  383.8       3        -0.3   \n",
       "2  2004.06.11  04:25  383.8  384.3  383.8  384.3       6         0.5   \n",
       "\n",
       "   Label_One_3  Up_2  Down_2  Up_3  Down_3  Alike_3  \n",
       "0            0     0       1     0       0        1  \n",
       "1           -1     0       1     0       1        0  \n",
       "2            1     1       0     1       0        0  "
      ]
     },
     "execution_count": 19,
     "metadata": {},
     "output_type": "execute_result"
    }
   ],
   "source": [
    "data_pass = 'F:/Courses/Python/python/'\n",
    "dataset = pd.read_csv(data_pass+'XAUUSD5_2004Y_1.csv')\n",
    "dataset.head(3)"
   ]
  },
  {
   "cell_type": "code",
   "execution_count": 20,
   "metadata": {},
   "outputs": [
    {
     "data": {
      "text/html": [
       "<div>\n",
       "<style>\n",
       "    .dataframe thead tr:only-child th {\n",
       "        text-align: right;\n",
       "    }\n",
       "\n",
       "    .dataframe thead th {\n",
       "        text-align: left;\n",
       "    }\n",
       "\n",
       "    .dataframe tbody tr th {\n",
       "        vertical-align: top;\n",
       "    }\n",
       "</style>\n",
       "<table border=\"1\" class=\"dataframe\">\n",
       "  <thead>\n",
       "    <tr style=\"text-align: right;\">\n",
       "      <th></th>\n",
       "      <th>y-m-d</th>\n",
       "      <th>h-s</th>\n",
       "      <th>Open</th>\n",
       "      <th>High</th>\n",
       "      <th>Low</th>\n",
       "      <th>Close</th>\n",
       "      <th>Volume</th>\n",
       "    </tr>\n",
       "  </thead>\n",
       "  <tbody>\n",
       "    <tr>\n",
       "      <th>0</th>\n",
       "      <td>2004.06.11</td>\n",
       "      <td>04:15</td>\n",
       "      <td>384.0</td>\n",
       "      <td>384.1</td>\n",
       "      <td>384.0</td>\n",
       "      <td>384.0</td>\n",
       "      <td>3</td>\n",
       "    </tr>\n",
       "    <tr>\n",
       "      <th>1</th>\n",
       "      <td>2004.06.11</td>\n",
       "      <td>04:20</td>\n",
       "      <td>384.1</td>\n",
       "      <td>384.1</td>\n",
       "      <td>383.8</td>\n",
       "      <td>383.8</td>\n",
       "      <td>3</td>\n",
       "    </tr>\n",
       "    <tr>\n",
       "      <th>2</th>\n",
       "      <td>2004.06.11</td>\n",
       "      <td>04:25</td>\n",
       "      <td>383.8</td>\n",
       "      <td>384.3</td>\n",
       "      <td>383.8</td>\n",
       "      <td>384.3</td>\n",
       "      <td>6</td>\n",
       "    </tr>\n",
       "  </tbody>\n",
       "</table>\n",
       "</div>"
      ],
      "text/plain": [
       "        y-m-d    h-s   Open   High    Low  Close  Volume\n",
       "0  2004.06.11  04:15  384.0  384.1  384.0  384.0       3\n",
       "1  2004.06.11  04:20  384.1  384.1  383.8  383.8       3\n",
       "2  2004.06.11  04:25  383.8  384.3  383.8  384.3       6"
      ]
     },
     "execution_count": 20,
     "metadata": {},
     "output_type": "execute_result"
    }
   ],
   "source": [
    "data = dataset.iloc[:,:7]\n",
    "data.head(3)"
   ]
  },
  {
   "cell_type": "code",
   "execution_count": 21,
   "metadata": {},
   "outputs": [
    {
     "data": {
      "text/html": [
       "<div>\n",
       "<style>\n",
       "    .dataframe thead tr:only-child th {\n",
       "        text-align: right;\n",
       "    }\n",
       "\n",
       "    .dataframe thead th {\n",
       "        text-align: left;\n",
       "    }\n",
       "\n",
       "    .dataframe tbody tr th {\n",
       "        vertical-align: top;\n",
       "    }\n",
       "</style>\n",
       "<table border=\"1\" class=\"dataframe\">\n",
       "  <thead>\n",
       "    <tr style=\"text-align: right;\">\n",
       "      <th></th>\n",
       "      <th>Date</th>\n",
       "      <th>Time</th>\n",
       "      <th>Open</th>\n",
       "      <th>High</th>\n",
       "      <th>Low</th>\n",
       "      <th>Close</th>\n",
       "      <th>Volume</th>\n",
       "    </tr>\n",
       "  </thead>\n",
       "  <tbody>\n",
       "    <tr>\n",
       "      <th>0</th>\n",
       "      <td>2004-06-11</td>\n",
       "      <td>04:15</td>\n",
       "      <td>384.0</td>\n",
       "      <td>384.1</td>\n",
       "      <td>384.0</td>\n",
       "      <td>384.0</td>\n",
       "      <td>3</td>\n",
       "    </tr>\n",
       "    <tr>\n",
       "      <th>1</th>\n",
       "      <td>2004-06-11</td>\n",
       "      <td>04:20</td>\n",
       "      <td>384.1</td>\n",
       "      <td>384.1</td>\n",
       "      <td>383.8</td>\n",
       "      <td>383.8</td>\n",
       "      <td>3</td>\n",
       "    </tr>\n",
       "    <tr>\n",
       "      <th>2</th>\n",
       "      <td>2004-06-11</td>\n",
       "      <td>04:25</td>\n",
       "      <td>383.8</td>\n",
       "      <td>384.3</td>\n",
       "      <td>383.8</td>\n",
       "      <td>384.3</td>\n",
       "      <td>6</td>\n",
       "    </tr>\n",
       "  </tbody>\n",
       "</table>\n",
       "</div>"
      ],
      "text/plain": [
       "        Date   Time   Open   High    Low  Close  Volume\n",
       "0 2004-06-11  04:15  384.0  384.1  384.0  384.0       3\n",
       "1 2004-06-11  04:20  384.1  384.1  383.8  383.8       3\n",
       "2 2004-06-11  04:25  383.8  384.3  383.8  384.3       6"
      ]
     },
     "execution_count": 21,
     "metadata": {},
     "output_type": "execute_result"
    }
   ],
   "source": [
    "data['y-m-d'] = pd.to_datetime(data['y-m-d'])\n",
    "#data['h-s'] = pd.to_datetime(data['h-s'])\n",
    "data = data.rename(columns={'y-m-d':'Date','h-s':'Time'})\n",
    "data.head(3)"
   ]
  },
  {
   "cell_type": "code",
   "execution_count": 35,
   "metadata": {},
   "outputs": [],
   "source": [
    "?plt.title"
   ]
  },
  {
   "cell_type": "code",
   "execution_count": 39,
   "metadata": {},
   "outputs": [
    {
     "data": {
      "image/png": "[encoded data removed]",
      "text/plain": [
       "<matplotlib.figure.Figure at 0xb962160>"
      ]
     },
     "metadata": {},
     "output_type": "display_data"
    }
   ],
   "source": [
    "plt.figure(figsize=(12,5))\n",
    "plt.plot(data.Date,data.Close,'+-b');\n",
    "#plt.plot(data.Date,data.Open,'x-r');\n",
    "plt.title('Figure title',fontsize=25);\n",
    "plt.ylabel('Y-Label',fontsize=20)\n",
    "plt.xlabel('X-Label',fontsize=20);\n"
   ]
  },
  {
   "cell_type": "code",
   "execution_count": null,
   "metadata": {},
   "outputs": [],
   "source": []
  }
 ],
 "metadata": {
  "kernelspec": {
   "display_name": "Python 3",
   "language": "python",
   "name": "python3"
  },
  "language_info": {
   "codemirror_mode": {
    "name": "ipython",
    "version": 3
   },
   "file_extension": ".py",
   "mimetype": "text/x-python",
   "name": "python",
   "nbconvert_exporter": "python",
   "pygments_lexer": "ipython3",
   "version": "3.6.3"
  }
 },
 "nbformat": 4,
 "nbformat_minor": 2
}
